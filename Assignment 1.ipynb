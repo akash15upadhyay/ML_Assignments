{
 "cells": [
  {
   "cell_type": "markdown",
   "id": "089a1e1b",
   "metadata": {},
   "source": [
    "Task 1:\n",
    "\n",
    "WAP to Make a custom exception?"
   ]
  },
  {
   "cell_type": "code",
   "execution_count": 11,
   "id": "70478c42",
   "metadata": {},
   "outputs": [
    {
     "name": "stdout",
     "output_type": "stream",
     "text": [
      "Caught custom exception: Number cannot be negative!\n"
     ]
    }
   ],
   "source": [
    "class MyCustomException(Exception):\n",
    "    def __init__(self, message):\n",
    "        super().__init__(message)\n",
    "        \n",
    "def check_number(num):\n",
    "    if num < 0:\n",
    "        raise MyCustomException(\"Number cannot be negative!\")\n",
    "    else:\n",
    "        print(f\"Number is valid: {num}\")\n",
    "\n",
    "try:\n",
    "    check_number(-5)\n",
    "except MyCustomException as e:\n",
    "    print(\"Caught custom exception:\", e)\n"
   ]
  },
  {
   "cell_type": "markdown",
   "id": "a3f9321a",
   "metadata": {},
   "source": [
    "Task 2:\n",
    "\n",
    "WAP to Make a 2-d array and read and write it in a csv format?"
   ]
  },
  {
   "cell_type": "code",
   "execution_count": 15,
   "id": "e5ce07fb",
   "metadata": {},
   "outputs": [
    {
     "name": "stdout",
     "output_type": "stream",
     "text": [
      "[1, 2, 3]\n",
      "[4, 5, 6]\n",
      "[7, 8, 9]\n"
     ]
    }
   ],
   "source": [
    "import csv\n",
    "array = [\n",
    "    [1, 2, 3],\n",
    "    [4, 5, 6],\n",
    "    [7, 8, 9]\n",
    "]\n",
    "# Performing write\n",
    "with open(\"matrix.csv\", mode=\"w\", newline=\"\") as file:\n",
    "    writer = csv.writer(file)\n",
    "    writer.writerows(array)\n",
    "\n",
    "# Performing read\n",
    "array = []\n",
    "with open(\"matrix.csv\", mode=\"r\") as file:\n",
    "    reader = csv.reader(file)\n",
    "    for row in reader:\n",
    "        array.append([int(val) for val in row])\n",
    "\n",
    "for row in array:\n",
    "    print(row)\n"
   ]
  }
 ],
 "metadata": {
  "kernelspec": {
   "display_name": "Python 3",
   "language": "python",
   "name": "python3"
  },
  "language_info": {
   "codemirror_mode": {
    "name": "ipython",
    "version": 3
   },
   "file_extension": ".py",
   "mimetype": "text/x-python",
   "name": "python",
   "nbconvert_exporter": "python",
   "pygments_lexer": "ipython3",
   "version": "3.12.1"
  }
 },
 "nbformat": 4,
 "nbformat_minor": 5
}
